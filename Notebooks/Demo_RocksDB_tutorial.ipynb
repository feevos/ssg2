{
 "cells": [
  {
   "cell_type": "code",
   "execution_count": 13,
   "id": "260a9e73-e727-458b-ac90-686e22a86784",
   "metadata": {},
   "outputs": [],
   "source": [
    "import rocksdb\n",
    "import numpy as np"
   ]
  },
  {
   "cell_type": "code",
   "execution_count": 14,
   "id": "29a7e2cf-c754-4bf1-9857-1a94cb9dc189",
   "metadata": {},
   "outputs": [],
   "source": [
    "opts = rocksdb.Options(create_if_missing=True)\n",
    "db = rocksdb.DB(\"YourDatabase.db\",opts,read_only=False) "
   ]
  },
  {
   "cell_type": "code",
   "execution_count": 15,
   "id": "aeba63d9-6265-4975-9e75-d6dc0ba78520",
   "metadata": {},
   "outputs": [
    {
     "data": {
      "text/plain": [
       "<ColumnFamilyHandle name: b'labels', id: 2, state: valid>"
      ]
     },
     "execution_count": 15,
     "metadata": {},
     "output_type": "execute_result"
    }
   ],
   "source": [
    "# Create Column families for inputs and labels \n",
    "# Inputs\n",
    "opts_inputs = rocksdb.ColumnFamilyOptions()\n",
    "db.create_column_family(b'inputs',opts_inputs)\n",
    "\n",
    "# labels\n",
    "opts_labels = rocksdb.ColumnFamilyOptions()\n",
    "db.create_column_family(b'labels',opts_labels)"
   ]
  },
  {
   "cell_type": "code",
   "execution_count": 16,
   "id": "29e81872-5ecf-49ac-99d9-615095bbe80d",
   "metadata": {},
   "outputs": [],
   "source": [
    "# Now the standard machinery applies for storing and retrieving keys \n",
    "img_shape   = (3,128,128)\n",
    "img_dtype   = np.float32\n",
    "label_shape = (1,128,128)\n",
    "label_dtype = np.uint8\n"
   ]
  },
  {
   "cell_type": "code",
   "execution_count": 17,
   "id": "77799d08-2941-49fa-b6e0-22d4bdb5ac4f",
   "metadata": {},
   "outputs": [],
   "source": [
    "# datum_index=123\n",
    "# But we only need one key as we are storing images and labels in different column families\n",
    "key   = b'123'\n",
    "timg      = np.random.rand(*img_shape).astype(img_dtype)\n",
    "tlabel    = np.random.rand(*label_shape).astype(label_dtype) # 1hot encoding"
   ]
  },
  {
   "cell_type": "code",
   "execution_count": 18,
   "id": "8a3b1dfa-aa76-4cee-b76a-5b085536d402",
   "metadata": {},
   "outputs": [],
   "source": [
    "cf_in = db.get_column_family(b'inputs')\n",
    "db.put((cf_in,key),timg.tobytes())"
   ]
  },
  {
   "cell_type": "code",
   "execution_count": 19,
   "id": "b50f3c55-dea6-43dd-8d75-b18a4a85cd21",
   "metadata": {},
   "outputs": [],
   "source": [
    "cf_label = db.get_column_family(b'labels')\n",
    "db.put((cf_label,key),tlabel.tobytes())"
   ]
  },
  {
   "cell_type": "code",
   "execution_count": 21,
   "id": "23e2e027-02b6-492b-b62c-10f9fdb9eac2",
   "metadata": {},
   "outputs": [],
   "source": [
    "# Now read back: \n",
    "cf_in    = db.get_column_family(b'inputs')\n",
    "cf_labels = db.get_column_family(b'labels')\n",
    "timg_retrieved   = np.frombuffer(db.get((cf_in,key)),dtype=img_dtype).reshape(*img_shape)\n",
    "tlabel_retrieved = np.frombuffer(db.get((cf_labels,key)),dtype=label_dtype).reshape(*label_shape)"
   ]
  },
  {
   "cell_type": "code",
   "execution_count": 22,
   "id": "33f5f730-8348-4cf2-be81-57a4b06c37a8",
   "metadata": {},
   "outputs": [
    {
     "data": {
      "text/plain": [
       "True"
      ]
     },
     "execution_count": 22,
     "metadata": {},
     "output_type": "execute_result"
    }
   ],
   "source": [
    "(timg_retrieved==timg).all()"
   ]
  },
  {
   "cell_type": "code",
   "execution_count": 23,
   "id": "2b12cf9b-b501-4500-af25-28a6707a4f69",
   "metadata": {},
   "outputs": [
    {
     "data": {
      "text/plain": [
       "True"
      ]
     },
     "execution_count": 23,
     "metadata": {},
     "output_type": "execute_result"
    }
   ],
   "source": [
    "(tlabel_retrieved==tlabel).all()"
   ]
  },
  {
   "cell_type": "code",
   "execution_count": 24,
   "id": "506d5bb1-eabc-490b-9da9-16a0b0cc852b",
   "metadata": {},
   "outputs": [],
   "source": [
    "db.close()"
   ]
  },
  {
   "cell_type": "code",
   "execution_count": null,
   "id": "44c5ef70-5874-45f3-bb92-ebb56be619bc",
   "metadata": {},
   "outputs": [],
   "source": []
  }
 ],
 "metadata": {
  "kernelspec": {
   "display_name": "Python 3 (ipykernel)",
   "language": "python",
   "name": "python3"
  },
  "language_info": {
   "codemirror_mode": {
    "name": "ipython",
    "version": 3
   },
   "file_extension": ".py",
   "mimetype": "text/x-python",
   "name": "python",
   "nbconvert_exporter": "python",
   "pygments_lexer": "ipython3",
   "version": "3.8.10"
  }
 },
 "nbformat": 4,
 "nbformat_minor": 5
}
